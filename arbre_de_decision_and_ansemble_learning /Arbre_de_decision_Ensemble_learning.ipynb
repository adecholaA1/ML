{
 "cells": [
  {
   "cell_type": "markdown",
   "id": "8c225399",
   "metadata": {},
   "source": [
    "### 1. Les arbres de décision\n",
    "\n",
    "#### 1.1 Tout savoir sur les arbres de décision\n",
    "\n",
    "- C'est un outil permettant de prendre une décision en fonction d'une série des questions, le choix de chaque question dépendant des réponses précédentes.\n",
    "\n",
    "- Les arbres de décision sont des algorithmes de ML qui permettent déffectuer automatiquement des tâches de classification et de régression.\n",
    "\n",
    "- Algorithmes qui peuvent s'attaquer aux données complexes et qui peuvent résoudre des problèmes linéaires ou non linéaires\n",
    "\n",
    "- Un arbre de décision c'est une suite de règle qui permet de résoudre un problème de classification ou de régréssion \n",
    "\n",
    "- Les arbres de décision sont souvent utilisés car ils sont ce qu'on appelle des white box c-à-d un algorithme qui est très interprètable autrement dire savoir comment sa décision a été prise.\n",
    "\n",
    "- Un autre point fort des arbres de décision : c'est qu'ils nécessitent très peu de préparation des données avant d'entraîner un algorithme de ML d'arbre de décision :\n",
    "\n",
    "     - Ne nécessite pas du tout de mise à l'échelle \n",
    "\n",
    "     - Ni de normalisation de données\n",
    "     \n",
    "**Vocabulaire**\n",
    "\n",
    "- **Node**\n",
    "\n",
    "Un arbre de décision dispose de différents types de nodes (noeuds)\n",
    "\n",
    "- les nodes qui appliquent des règles de décision\n",
    "- le root node qui est le premier node de l'arbre\n",
    "- les leaf nodes, les décisions prises par l'arbre\n",
    "\n",
    "- **Un node applique une règle à notre arbre, par exemple : \"Est ce qu'il fait froid ?\"**\n",
    "\n",
    "- Ces nodes servent à mieux comprendre notre problème pour prendre la meilleure décision possible\n",
    "\n",
    "- Le leaf node est le dernier node des arbres. En parcourant les différentes règles de notre arbre, nous finissons dans une de ces feuilles qui nous retournera la décision de l'arbre pour l'exemple en question.\n",
    "\n",
    "- **Profondeur**\n",
    "\n",
    "La profondeur d'un arbre correspond à sa chaîne de décision la plus longgue du root note jusqu'à la leaf node.\n",
    "\n",
    "- Le root node est de profondeur 0 car à ce stade, il n'y apas encore des règles appliquées.\n",
    "\n",
    "**Fonction coût**\n",
    "\n",
    "Pour entraîner un arbre de décision, il va falloir déterminer une fonction de coût, c-à-d **le moyen de calculer l'erreur de prédiction**.\n",
    "\n",
    "- Le travail de l'algorithme sera la minimisation de l'erreur de l'arbre calculé par la fonction choisie.\n",
    "\n",
    "**Pour un arbre de régression, on utilisera comme fonction coût le MSE**\n",
    "\n",
    "$$MSE_{\\text{node}} = \\frac{1}{\\text{pop}_{node}} \\sum_{i\\in\\text{node}} (\\hat{y}^{(i)} - y^{(i)})^2$$\n",
    "\n",
    "- Plus la prédiction sera éloignée de la valeur cible, plus l'erreur sera élevée.\n",
    "\n",
    "- Cela forcera l'arbre à choisir des règles afin de créer des sous-populations avec des variables cibles homogène.\n",
    "\n",
    "\n",
    "**Pour un arbre de classification, on utilisera comme fonction de coût l'indice  Gini : qui permet de calculer la pureté de nos nodes**\n",
    "\n",
    "$$G_i = 1 - \\sum_{k=1}^n p_{i,k}^2$$\n",
    "\n",
    "- Pour calculer l'indice Gini pour un node, on prend la probabilité d'appartenance à chaque classe élevée au carrée et on va sommer, puis on fait 1 moins cette somme.\n",
    "\n",
    "- **Le but des arbres de décision** est de créer  les classes les plus pur possible pour classifier au mieux et résoudre au mieux notre problème c-à-d des règles de décisions qui vont diminuer au mieux l'indice Gini le long de notre arbre.\n",
    "\n",
    "- Cela forcera l'arbre à choisir des règles pour discrimer les données selon leur variable cible.\n",
    "\n",
    "- Pour un node pur le Gini sera égale à 0 car on a 100% de chance que notre observation appartient à la bonne classe \n",
    "\n",
    "**Construire un arbre**\n",
    "\n",
    "Le but sera de choisir chaque règle de l'arbre dans le but de minimiser le plus possible la fonction coût.\n",
    "\n",
    "- L'algorithme va tout simplement essayer toutes les règles possibles en fonction de nos données et choisir celle qui minimise le plus la fonction coût.\n",
    "\n",
    "**Les limites**\n",
    "\n",
    "- Cet algorithme est simple mais gourmand en temps de calcul. \n",
    "\n",
    "- Il recherche avidement une répartition optimale au niveau supérieur, puis répète le processus à chaque niveau.\n",
    "\n",
    "- Il ne vérifie pas si la règle condura ou non à une impureté aussi faible que possible plusieurs niveaux plus bas.\n",
    "\n",
    "- Un algorithme gourmand produit souvent une solution raisonnablement bonne, mais il n'est pas garanti que ce soit la solution optimale.\n",
    "\n",
    "- Les arbres de décisions créent des limites de décision orthogonales, ce qui les rend sensibles à la rotation des ensembles d'entraînement\n",
    "\n",
    "- Les arbres de décision sont également instables car ils sont très sensibles à de petites variations des données d'entraînement.\n",
    "\n",
    "**Implémentation en Python**\n",
    "\n",
    "**Classification**\n",
    "\n",
    "Jeu de données du titanic\n",
    "\n",
    "**Les paramètres du modèle :** c'est tout ce qui permet de changer la manière dont le modèle va fonctionner \n",
    "\n",
    "- Pour avoir un modèle performant il faut régler ces paramètre pour avoir le meilleur modèle possible. \n"
   ]
  },
  {
   "cell_type": "code",
   "execution_count": 125,
   "id": "7c04f4ae",
   "metadata": {},
   "outputs": [],
   "source": [
    "# Import de packages\n",
    "import matplotlib.pyplot as plt\n",
    "import numpy as np\n",
    "import pandas as pd\n",
    "\n",
    "from sklearn.linear_model import LogisticRegression\n",
    "from sklearn import tree\n",
    "from sklearn.model_selection import train_test_split\n",
    "import os \n",
    "\n",
    "from IPython.display import Image"
   ]
  },
  {
   "cell_type": "code",
   "execution_count": 145,
   "id": "a8182986",
   "metadata": {
    "scrolled": true
   },
   "outputs": [
    {
     "data": {
      "text/html": [
       "<div>\n",
       "<style scoped>\n",
       "    .dataframe tbody tr th:only-of-type {\n",
       "        vertical-align: middle;\n",
       "    }\n",
       "\n",
       "    .dataframe tbody tr th {\n",
       "        vertical-align: top;\n",
       "    }\n",
       "\n",
       "    .dataframe thead th {\n",
       "        text-align: right;\n",
       "    }\n",
       "</style>\n",
       "<table border=\"1\" class=\"dataframe\">\n",
       "  <thead>\n",
       "    <tr style=\"text-align: right;\">\n",
       "      <th></th>\n",
       "      <th>PassengerId</th>\n",
       "      <th>Survived</th>\n",
       "      <th>Pclass</th>\n",
       "      <th>Name</th>\n",
       "      <th>Sex</th>\n",
       "      <th>Age</th>\n",
       "      <th>SibSp</th>\n",
       "      <th>Parch</th>\n",
       "      <th>Ticket</th>\n",
       "      <th>Fare</th>\n",
       "      <th>Cabin</th>\n",
       "      <th>Embarked</th>\n",
       "    </tr>\n",
       "  </thead>\n",
       "  <tbody>\n",
       "    <tr>\n",
       "      <th>0</th>\n",
       "      <td>1</td>\n",
       "      <td>0</td>\n",
       "      <td>3</td>\n",
       "      <td>Braund, Mr. Owen Harris</td>\n",
       "      <td>male</td>\n",
       "      <td>22.0</td>\n",
       "      <td>1</td>\n",
       "      <td>0</td>\n",
       "      <td>A/5 21171</td>\n",
       "      <td>7.2500</td>\n",
       "      <td>NaN</td>\n",
       "      <td>S</td>\n",
       "    </tr>\n",
       "    <tr>\n",
       "      <th>1</th>\n",
       "      <td>2</td>\n",
       "      <td>1</td>\n",
       "      <td>1</td>\n",
       "      <td>Cumings, Mrs. John Bradley (Florence Briggs Th...</td>\n",
       "      <td>female</td>\n",
       "      <td>38.0</td>\n",
       "      <td>1</td>\n",
       "      <td>0</td>\n",
       "      <td>PC 17599</td>\n",
       "      <td>71.2833</td>\n",
       "      <td>C85</td>\n",
       "      <td>C</td>\n",
       "    </tr>\n",
       "    <tr>\n",
       "      <th>2</th>\n",
       "      <td>3</td>\n",
       "      <td>1</td>\n",
       "      <td>3</td>\n",
       "      <td>Heikkinen, Miss. Laina</td>\n",
       "      <td>female</td>\n",
       "      <td>26.0</td>\n",
       "      <td>0</td>\n",
       "      <td>0</td>\n",
       "      <td>STON/O2. 3101282</td>\n",
       "      <td>7.9250</td>\n",
       "      <td>NaN</td>\n",
       "      <td>S</td>\n",
       "    </tr>\n",
       "    <tr>\n",
       "      <th>3</th>\n",
       "      <td>4</td>\n",
       "      <td>1</td>\n",
       "      <td>1</td>\n",
       "      <td>Futrelle, Mrs. Jacques Heath (Lily May Peel)</td>\n",
       "      <td>female</td>\n",
       "      <td>35.0</td>\n",
       "      <td>1</td>\n",
       "      <td>0</td>\n",
       "      <td>113803</td>\n",
       "      <td>53.1000</td>\n",
       "      <td>C123</td>\n",
       "      <td>S</td>\n",
       "    </tr>\n",
       "    <tr>\n",
       "      <th>4</th>\n",
       "      <td>5</td>\n",
       "      <td>0</td>\n",
       "      <td>3</td>\n",
       "      <td>Allen, Mr. William Henry</td>\n",
       "      <td>male</td>\n",
       "      <td>35.0</td>\n",
       "      <td>0</td>\n",
       "      <td>0</td>\n",
       "      <td>373450</td>\n",
       "      <td>8.0500</td>\n",
       "      <td>NaN</td>\n",
       "      <td>S</td>\n",
       "    </tr>\n",
       "  </tbody>\n",
       "</table>\n",
       "</div>"
      ],
      "text/plain": [
       "   PassengerId  Survived  Pclass  \\\n",
       "0            1         0       3   \n",
       "1            2         1       1   \n",
       "2            3         1       3   \n",
       "3            4         1       1   \n",
       "4            5         0       3   \n",
       "\n",
       "                                                Name     Sex   Age  SibSp  \\\n",
       "0                            Braund, Mr. Owen Harris    male  22.0      1   \n",
       "1  Cumings, Mrs. John Bradley (Florence Briggs Th...  female  38.0      1   \n",
       "2                             Heikkinen, Miss. Laina  female  26.0      0   \n",
       "3       Futrelle, Mrs. Jacques Heath (Lily May Peel)  female  35.0      1   \n",
       "4                           Allen, Mr. William Henry    male  35.0      0   \n",
       "\n",
       "   Parch            Ticket     Fare Cabin Embarked  \n",
       "0      0         A/5 21171   7.2500   NaN        S  \n",
       "1      0          PC 17599  71.2833   C85        C  \n",
       "2      0  STON/O2. 3101282   7.9250   NaN        S  \n",
       "3      0            113803  53.1000  C123        S  \n",
       "4      0            373450   8.0500   NaN        S  "
      ]
     },
     "execution_count": 145,
     "metadata": {},
     "output_type": "execute_result"
    }
   ],
   "source": [
    "# Import des données\n",
    "dataset = pd.read_csv(\"./datasets/titanic.csv\")\n",
    "dataset.head()"
   ]
  },
  {
   "cell_type": "code",
   "execution_count": 146,
   "id": "983dc5b4",
   "metadata": {},
   "outputs": [
    {
     "data": {
      "text/plain": [
       "Index(['PassengerId', 'Survived', 'Pclass', 'Name', 'Sex', 'Age', 'SibSp',\n",
       "       'Parch', 'Ticket', 'Fare', 'Cabin', 'Embarked'],\n",
       "      dtype='object')"
      ]
     },
     "execution_count": 146,
     "metadata": {},
     "output_type": "execute_result"
    }
   ],
   "source": [
    "dataset.columns"
   ]
  },
  {
   "cell_type": "code",
   "execution_count": 147,
   "id": "b6257a04",
   "metadata": {},
   "outputs": [],
   "source": [
    "# Premier tri pour garder les caractéristiques qui nous intéressent\n",
    "dataset.drop(['PassengerId', 'Name', 'SibSp', 'Parch', 'Ticket', 'Fare', 'Cabin', 'Embarked'], axis=1, inplace=True)"
   ]
  },
  {
   "cell_type": "code",
   "execution_count": 148,
   "id": "4fdf928a",
   "metadata": {},
   "outputs": [
    {
     "data": {
      "text/html": [
       "<div>\n",
       "<style scoped>\n",
       "    .dataframe tbody tr th:only-of-type {\n",
       "        vertical-align: middle;\n",
       "    }\n",
       "\n",
       "    .dataframe tbody tr th {\n",
       "        vertical-align: top;\n",
       "    }\n",
       "\n",
       "    .dataframe thead th {\n",
       "        text-align: right;\n",
       "    }\n",
       "</style>\n",
       "<table border=\"1\" class=\"dataframe\">\n",
       "  <thead>\n",
       "    <tr style=\"text-align: right;\">\n",
       "      <th></th>\n",
       "      <th>Survived</th>\n",
       "      <th>Pclass</th>\n",
       "      <th>Sex</th>\n",
       "      <th>Age</th>\n",
       "    </tr>\n",
       "  </thead>\n",
       "  <tbody>\n",
       "    <tr>\n",
       "      <th>0</th>\n",
       "      <td>0</td>\n",
       "      <td>3</td>\n",
       "      <td>male</td>\n",
       "      <td>22.0</td>\n",
       "    </tr>\n",
       "    <tr>\n",
       "      <th>1</th>\n",
       "      <td>1</td>\n",
       "      <td>1</td>\n",
       "      <td>female</td>\n",
       "      <td>38.0</td>\n",
       "    </tr>\n",
       "    <tr>\n",
       "      <th>2</th>\n",
       "      <td>1</td>\n",
       "      <td>3</td>\n",
       "      <td>female</td>\n",
       "      <td>26.0</td>\n",
       "    </tr>\n",
       "    <tr>\n",
       "      <th>3</th>\n",
       "      <td>1</td>\n",
       "      <td>1</td>\n",
       "      <td>female</td>\n",
       "      <td>35.0</td>\n",
       "    </tr>\n",
       "    <tr>\n",
       "      <th>4</th>\n",
       "      <td>0</td>\n",
       "      <td>3</td>\n",
       "      <td>male</td>\n",
       "      <td>35.0</td>\n",
       "    </tr>\n",
       "  </tbody>\n",
       "</table>\n",
       "</div>"
      ],
      "text/plain": [
       "   Survived  Pclass     Sex   Age\n",
       "0         0       3    male  22.0\n",
       "1         1       1  female  38.0\n",
       "2         1       3  female  26.0\n",
       "3         1       1  female  35.0\n",
       "4         0       3    male  35.0"
      ]
     },
     "execution_count": 148,
     "metadata": {},
     "output_type": "execute_result"
    }
   ],
   "source": [
    "dataset.head()"
   ]
  },
  {
   "cell_type": "code",
   "execution_count": 149,
   "id": "7bb6b3ed",
   "metadata": {},
   "outputs": [],
   "source": [
    "#Séparation en caractéristiques (features) et cible (target)\n",
    "X = dataset.drop(['Survived'], axis = 1)\n",
    "y = dataset[\"Survived\"]"
   ]
  },
  {
   "cell_type": "code",
   "execution_count": 150,
   "id": "7138cd3b",
   "metadata": {
    "scrolled": true
   },
   "outputs": [
    {
     "data": {
      "text/html": [
       "<div>\n",
       "<style scoped>\n",
       "    .dataframe tbody tr th:only-of-type {\n",
       "        vertical-align: middle;\n",
       "    }\n",
       "\n",
       "    .dataframe tbody tr th {\n",
       "        vertical-align: top;\n",
       "    }\n",
       "\n",
       "    .dataframe thead th {\n",
       "        text-align: right;\n",
       "    }\n",
       "</style>\n",
       "<table border=\"1\" class=\"dataframe\">\n",
       "  <thead>\n",
       "    <tr style=\"text-align: right;\">\n",
       "      <th></th>\n",
       "      <th>Pclass</th>\n",
       "      <th>Sex</th>\n",
       "      <th>Age</th>\n",
       "    </tr>\n",
       "  </thead>\n",
       "  <tbody>\n",
       "    <tr>\n",
       "      <th>0</th>\n",
       "      <td>3</td>\n",
       "      <td>male</td>\n",
       "      <td>22.0</td>\n",
       "    </tr>\n",
       "    <tr>\n",
       "      <th>1</th>\n",
       "      <td>1</td>\n",
       "      <td>female</td>\n",
       "      <td>38.0</td>\n",
       "    </tr>\n",
       "    <tr>\n",
       "      <th>2</th>\n",
       "      <td>3</td>\n",
       "      <td>female</td>\n",
       "      <td>26.0</td>\n",
       "    </tr>\n",
       "    <tr>\n",
       "      <th>3</th>\n",
       "      <td>1</td>\n",
       "      <td>female</td>\n",
       "      <td>35.0</td>\n",
       "    </tr>\n",
       "    <tr>\n",
       "      <th>4</th>\n",
       "      <td>3</td>\n",
       "      <td>male</td>\n",
       "      <td>35.0</td>\n",
       "    </tr>\n",
       "  </tbody>\n",
       "</table>\n",
       "</div>"
      ],
      "text/plain": [
       "   Pclass     Sex   Age\n",
       "0       3    male  22.0\n",
       "1       1  female  38.0\n",
       "2       3  female  26.0\n",
       "3       1  female  35.0\n",
       "4       3    male  35.0"
      ]
     },
     "execution_count": 150,
     "metadata": {},
     "output_type": "execute_result"
    }
   ],
   "source": [
    "X.head()"
   ]
  },
  {
   "cell_type": "code",
   "execution_count": 151,
   "id": "5ba3e486",
   "metadata": {
    "scrolled": true
   },
   "outputs": [
    {
     "data": {
      "text/plain": [
       "0    0\n",
       "1    1\n",
       "2    1\n",
       "3    1\n",
       "4    0\n",
       "Name: Survived, dtype: int64"
      ]
     },
     "execution_count": 151,
     "metadata": {},
     "output_type": "execute_result"
    }
   ],
   "source": [
    "y.head()"
   ]
  },
  {
   "cell_type": "markdown",
   "id": "8c443e2d",
   "metadata": {},
   "source": [
    "Vérifie s'il y a des nan"
   ]
  },
  {
   "cell_type": "code",
   "execution_count": 152,
   "id": "e1cd902a",
   "metadata": {},
   "outputs": [
    {
     "data": {
      "text/plain": [
       "Pclass      0\n",
       "Sex         0\n",
       "Age       177\n",
       "dtype: int64"
      ]
     },
     "execution_count": 152,
     "metadata": {},
     "output_type": "execute_result"
    }
   ],
   "source": [
    "X.isna().sum()"
   ]
  },
  {
   "cell_type": "code",
   "execution_count": 153,
   "id": "b9dc9dc3",
   "metadata": {},
   "outputs": [
    {
     "data": {
      "text/plain": [
       "0"
      ]
     },
     "execution_count": 153,
     "metadata": {},
     "output_type": "execute_result"
    }
   ],
   "source": [
    "y.isna().sum()"
   ]
  },
  {
   "cell_type": "markdown",
   "id": "86f68ae7",
   "metadata": {},
   "source": [
    "Remplaçons les nan de la colonne age par la moyenne des ages."
   ]
  },
  {
   "cell_type": "code",
   "execution_count": 154,
   "id": "07af2718",
   "metadata": {},
   "outputs": [],
   "source": [
    "X[\"Age\"] = X[\"Age\"].fillna(X[\"Age\"].mean())"
   ]
  },
  {
   "cell_type": "code",
   "execution_count": 155,
   "id": "a6740d6a",
   "metadata": {
    "scrolled": true
   },
   "outputs": [
    {
     "data": {
      "text/plain": [
       "Pclass    0\n",
       "Sex       0\n",
       "Age       0\n",
       "dtype: int64"
      ]
     },
     "execution_count": 155,
     "metadata": {},
     "output_type": "execute_result"
    }
   ],
   "source": [
    "X.isna().sum()"
   ]
  },
  {
   "cell_type": "markdown",
   "id": "380ae64c",
   "metadata": {},
   "source": [
    "Remplacer les valeurs catégorielles de la colonne \"Age\" par des valeurs numériques"
   ]
  },
  {
   "cell_type": "code",
   "execution_count": 156,
   "id": "1e327183",
   "metadata": {},
   "outputs": [],
   "source": [
    "X[\"Sex\"] = X[\"Sex\"].map({'male': 1, 'female':2})"
   ]
  },
  {
   "cell_type": "code",
   "execution_count": 157,
   "id": "d8bc613d",
   "metadata": {},
   "outputs": [
    {
     "data": {
      "text/html": [
       "<div>\n",
       "<style scoped>\n",
       "    .dataframe tbody tr th:only-of-type {\n",
       "        vertical-align: middle;\n",
       "    }\n",
       "\n",
       "    .dataframe tbody tr th {\n",
       "        vertical-align: top;\n",
       "    }\n",
       "\n",
       "    .dataframe thead th {\n",
       "        text-align: right;\n",
       "    }\n",
       "</style>\n",
       "<table border=\"1\" class=\"dataframe\">\n",
       "  <thead>\n",
       "    <tr style=\"text-align: right;\">\n",
       "      <th></th>\n",
       "      <th>Pclass</th>\n",
       "      <th>Sex</th>\n",
       "      <th>Age</th>\n",
       "    </tr>\n",
       "  </thead>\n",
       "  <tbody>\n",
       "    <tr>\n",
       "      <th>0</th>\n",
       "      <td>3</td>\n",
       "      <td>1</td>\n",
       "      <td>22.0</td>\n",
       "    </tr>\n",
       "    <tr>\n",
       "      <th>1</th>\n",
       "      <td>1</td>\n",
       "      <td>2</td>\n",
       "      <td>38.0</td>\n",
       "    </tr>\n",
       "    <tr>\n",
       "      <th>2</th>\n",
       "      <td>3</td>\n",
       "      <td>2</td>\n",
       "      <td>26.0</td>\n",
       "    </tr>\n",
       "    <tr>\n",
       "      <th>3</th>\n",
       "      <td>1</td>\n",
       "      <td>2</td>\n",
       "      <td>35.0</td>\n",
       "    </tr>\n",
       "    <tr>\n",
       "      <th>4</th>\n",
       "      <td>3</td>\n",
       "      <td>1</td>\n",
       "      <td>35.0</td>\n",
       "    </tr>\n",
       "  </tbody>\n",
       "</table>\n",
       "</div>"
      ],
      "text/plain": [
       "   Pclass  Sex   Age\n",
       "0       3    1  22.0\n",
       "1       1    2  38.0\n",
       "2       3    2  26.0\n",
       "3       1    2  35.0\n",
       "4       3    1  35.0"
      ]
     },
     "execution_count": 157,
     "metadata": {},
     "output_type": "execute_result"
    }
   ],
   "source": [
    "X.head()"
   ]
  },
  {
   "cell_type": "markdown",
   "id": "fc1e52f0",
   "metadata": {},
   "source": [
    "#### Construire le Modèle d'arbre de décision"
   ]
  },
  {
   "cell_type": "code",
   "execution_count": 158,
   "id": "55e7b716",
   "metadata": {},
   "outputs": [],
   "source": [
    "# Création de train et test sets\n",
    "X_train, X_test, y_train, y_test = train_test_split(X, y, test_size=0.2)"
   ]
  },
  {
   "cell_type": "code",
   "execution_count": 159,
   "id": "35bd50a2",
   "metadata": {},
   "outputs": [],
   "source": [
    "# Modèle\n",
    "modelTree = tree.DecisionTreeClassifier(random_state=0, \n",
    "                                        criterion='gini', \n",
    "                                        max_depth=6)"
   ]
  },
  {
   "cell_type": "code",
   "execution_count": 160,
   "id": "ecf4ac10",
   "metadata": {},
   "outputs": [
    {
     "data": {
      "text/plain": [
       "DecisionTreeClassifier(max_depth=6, random_state=0)"
      ]
     },
     "execution_count": 160,
     "metadata": {},
     "output_type": "execute_result"
    }
   ],
   "source": [
    "# Entraînement du modèle\n",
    "modelTree.fit(X_train, y_train)"
   ]
  },
  {
   "cell_type": "code",
   "execution_count": 161,
   "id": "77b1bd50",
   "metadata": {},
   "outputs": [
    {
     "name": "stdout",
     "output_type": "stream",
     "text": [
      "Accuracy Abre Train : 0.83006\n",
      "Accuracy Abre Test  : 0.79888\n"
     ]
    }
   ],
   "source": [
    "#Train test score\n",
    "accuracyTreeTrain = modelTree.score(X_train, y_train)\n",
    "accuracyTreeTest = modelTree.score(X_test, y_test)\n",
    "\n",
    "print(f\"Accuracy Abre Train : {accuracyTreeTrain :.5f}\")\n",
    "print(f\"Accuracy Abre Test  : {accuracyTreeTest :.5f}\")"
   ]
  },
  {
   "cell_type": "markdown",
   "id": "b21527a2",
   "metadata": {},
   "source": [
    "#### Pour comparer avec la régression logitique"
   ]
  },
  {
   "cell_type": "code",
   "execution_count": 162,
   "id": "b60df325",
   "metadata": {},
   "outputs": [
    {
     "data": {
      "text/plain": [
       "LogisticRegression(random_state=0, solver='newton-cg')"
      ]
     },
     "execution_count": 162,
     "metadata": {},
     "output_type": "execute_result"
    }
   ],
   "source": [
    "modelLR = LogisticRegression(random_state=0, solver=\"newton-cg\")\n",
    "modelLR.fit(X_train, y_train)"
   ]
  },
  {
   "cell_type": "code",
   "execution_count": 163,
   "id": "3ad3ea25",
   "metadata": {},
   "outputs": [
    {
     "name": "stdout",
     "output_type": "stream",
     "text": [
      "Accuracy Abre Train (LR) : 0.77949\n",
      "Accuracy Abre Test  (LR) : 0.79330\n"
     ]
    }
   ],
   "source": [
    "#Train test score pour LP\n",
    "acc_train_LR  = modelLR.score(X_train, y_train)\n",
    "acc_test_LR  = modelLR.score(X_test, y_test)\n",
    "\n",
    "print(f\"Accuracy Abre Train (LR) : {acc_train_LR :.5f}\")\n",
    "print(f\"Accuracy Abre Test  (LR) : {acc_test_LR :.5f}\")"
   ]
  },
  {
   "cell_type": "markdown",
   "id": "4a3d5250",
   "metadata": {},
   "source": [
    "#### On génère une image de notre arbre de décision"
   ]
  },
  {
   "cell_type": "code",
   "execution_count": 164,
   "id": "e9c7c9d5",
   "metadata": {
    "scrolled": true
   },
   "outputs": [
    {
     "data": {
      "image/png": "[encoded data removed]",
      "text/plain": [
       "<Figure size 1080x1440 with 1 Axes>"
      ]
     },
     "metadata": {
      "needs_background": "light"
     },
     "output_type": "display_data"
    }
   ],
   "source": [
    "from sklearn.tree import plot_tree\n",
    "plt.figure(figsize=(15,20))\n",
    "plot_tree(modelTree, feature_names=[\"Pclass\", \"Genre\", \"Age\"], class_names=[\"Mort\", \"Vivant\"], filled=True)\n",
    "plt.savefig(\"tree_titanic\")\n",
    "plt.show()"
   ]
  },
  {
   "cell_type": "markdown",
   "id": "0231cf63",
   "metadata": {},
   "source": [
    "Nouvelle prédiction"
   ]
  },
  {
   "cell_type": "code",
   "execution_count": 165,
   "id": "7a998d4a",
   "metadata": {},
   "outputs": [
    {
     "data": {
      "text/plain": [
       "0"
      ]
     },
     "execution_count": 165,
     "metadata": {},
     "output_type": "execute_result"
    }
   ],
   "source": [
    "X_pred = np.array([1, 1, 54]).reshape(1, -1)\n",
    "modelTree.predict(X_pred)[0]"
   ]
  },
  {
   "cell_type": "markdown",
   "id": "2da0e58c",
   "metadata": {},
   "source": [
    "**Régression**\n",
    "\n",
    "Le jeu de données publicitaire  \n"
   ]
  },
  {
   "cell_type": "code",
   "execution_count": 238,
   "id": "834c403a",
   "metadata": {},
   "outputs": [],
   "source": [
    "import numpy as np\n",
    "import pandas as pd\n",
    "\n",
    "from sklearn.model_selection import train_test_split\n",
    "from sklearn.preprocessing import StandardScaler\n",
    "from sklearn import tree\n",
    "from sklearn.linear_model import LinearRegression"
   ]
  },
  {
   "cell_type": "code",
   "execution_count": 239,
   "id": "d3dd0fd5",
   "metadata": {},
   "outputs": [],
   "source": [
    "dataset = pd.read_csv(\"./datasets/Advertising.csv\")"
   ]
  },
  {
   "cell_type": "code",
   "execution_count": 240,
   "id": "57fb68a3",
   "metadata": {
    "scrolled": false
   },
   "outputs": [
    {
     "data": {
      "text/html": [
       "<div>\n",
       "<style scoped>\n",
       "    .dataframe tbody tr th:only-of-type {\n",
       "        vertical-align: middle;\n",
       "    }\n",
       "\n",
       "    .dataframe tbody tr th {\n",
       "        vertical-align: top;\n",
       "    }\n",
       "\n",
       "    .dataframe thead th {\n",
       "        text-align: right;\n",
       "    }\n",
       "</style>\n",
       "<table border=\"1\" class=\"dataframe\">\n",
       "  <thead>\n",
       "    <tr style=\"text-align: right;\">\n",
       "      <th></th>\n",
       "      <th>Unnamed: 0</th>\n",
       "      <th>TV</th>\n",
       "      <th>radio</th>\n",
       "      <th>newspaper</th>\n",
       "      <th>sales</th>\n",
       "    </tr>\n",
       "  </thead>\n",
       "  <tbody>\n",
       "    <tr>\n",
       "      <th>0</th>\n",
       "      <td>1</td>\n",
       "      <td>230.1</td>\n",
       "      <td>37.8</td>\n",
       "      <td>69.2</td>\n",
       "      <td>22.1</td>\n",
       "    </tr>\n",
       "    <tr>\n",
       "      <th>1</th>\n",
       "      <td>2</td>\n",
       "      <td>44.5</td>\n",
       "      <td>39.3</td>\n",
       "      <td>45.1</td>\n",
       "      <td>10.4</td>\n",
       "    </tr>\n",
       "    <tr>\n",
       "      <th>2</th>\n",
       "      <td>3</td>\n",
       "      <td>17.2</td>\n",
       "      <td>45.9</td>\n",
       "      <td>69.3</td>\n",
       "      <td>9.3</td>\n",
       "    </tr>\n",
       "    <tr>\n",
       "      <th>3</th>\n",
       "      <td>4</td>\n",
       "      <td>151.5</td>\n",
       "      <td>41.3</td>\n",
       "      <td>58.5</td>\n",
       "      <td>18.5</td>\n",
       "    </tr>\n",
       "    <tr>\n",
       "      <th>4</th>\n",
       "      <td>5</td>\n",
       "      <td>180.8</td>\n",
       "      <td>10.8</td>\n",
       "      <td>58.4</td>\n",
       "      <td>12.9</td>\n",
       "    </tr>\n",
       "  </tbody>\n",
       "</table>\n",
       "</div>"
      ],
      "text/plain": [
       "   Unnamed: 0     TV  radio  newspaper  sales\n",
       "0           1  230.1   37.8       69.2   22.1\n",
       "1           2   44.5   39.3       45.1   10.4\n",
       "2           3   17.2   45.9       69.3    9.3\n",
       "3           4  151.5   41.3       58.5   18.5\n",
       "4           5  180.8   10.8       58.4   12.9"
      ]
     },
     "execution_count": 240,
     "metadata": {},
     "output_type": "execute_result"
    }
   ],
   "source": [
    "dataset.head()"
   ]
  },
  {
   "cell_type": "code",
   "execution_count": 241,
   "id": "5a01df97",
   "metadata": {},
   "outputs": [
    {
     "data": {
      "text/plain": [
       "Index(['Unnamed: 0', 'TV', 'radio', 'newspaper', 'sales'], dtype='object')"
      ]
     },
     "execution_count": 241,
     "metadata": {},
     "output_type": "execute_result"
    }
   ],
   "source": [
    "dataset.columns"
   ]
  },
  {
   "cell_type": "code",
   "execution_count": 242,
   "id": "daab7fe7",
   "metadata": {},
   "outputs": [],
   "source": [
    "dataset.drop(['Unnamed: 0'], axis=1, inplace=True)"
   ]
  },
  {
   "cell_type": "code",
   "execution_count": 243,
   "id": "a5840023",
   "metadata": {},
   "outputs": [
    {
     "data": {
      "text/html": [
       "<div>\n",
       "<style scoped>\n",
       "    .dataframe tbody tr th:only-of-type {\n",
       "        vertical-align: middle;\n",
       "    }\n",
       "\n",
       "    .dataframe tbody tr th {\n",
       "        vertical-align: top;\n",
       "    }\n",
       "\n",
       "    .dataframe thead th {\n",
       "        text-align: right;\n",
       "    }\n",
       "</style>\n",
       "<table border=\"1\" class=\"dataframe\">\n",
       "  <thead>\n",
       "    <tr style=\"text-align: right;\">\n",
       "      <th></th>\n",
       "      <th>TV</th>\n",
       "      <th>radio</th>\n",
       "      <th>newspaper</th>\n",
       "      <th>sales</th>\n",
       "    </tr>\n",
       "  </thead>\n",
       "  <tbody>\n",
       "    <tr>\n",
       "      <th>0</th>\n",
       "      <td>230.1</td>\n",
       "      <td>37.8</td>\n",
       "      <td>69.2</td>\n",
       "      <td>22.1</td>\n",
       "    </tr>\n",
       "    <tr>\n",
       "      <th>1</th>\n",
       "      <td>44.5</td>\n",
       "      <td>39.3</td>\n",
       "      <td>45.1</td>\n",
       "      <td>10.4</td>\n",
       "    </tr>\n",
       "    <tr>\n",
       "      <th>2</th>\n",
       "      <td>17.2</td>\n",
       "      <td>45.9</td>\n",
       "      <td>69.3</td>\n",
       "      <td>9.3</td>\n",
       "    </tr>\n",
       "    <tr>\n",
       "      <th>3</th>\n",
       "      <td>151.5</td>\n",
       "      <td>41.3</td>\n",
       "      <td>58.5</td>\n",
       "      <td>18.5</td>\n",
       "    </tr>\n",
       "    <tr>\n",
       "      <th>4</th>\n",
       "      <td>180.8</td>\n",
       "      <td>10.8</td>\n",
       "      <td>58.4</td>\n",
       "      <td>12.9</td>\n",
       "    </tr>\n",
       "  </tbody>\n",
       "</table>\n",
       "</div>"
      ],
      "text/plain": [
       "      TV  radio  newspaper  sales\n",
       "0  230.1   37.8       69.2   22.1\n",
       "1   44.5   39.3       45.1   10.4\n",
       "2   17.2   45.9       69.3    9.3\n",
       "3  151.5   41.3       58.5   18.5\n",
       "4  180.8   10.8       58.4   12.9"
      ]
     },
     "execution_count": 243,
     "metadata": {},
     "output_type": "execute_result"
    }
   ],
   "source": [
    "dataset.head()"
   ]
  },
  {
   "cell_type": "code",
   "execution_count": 244,
   "id": "e37f98ca",
   "metadata": {},
   "outputs": [],
   "source": [
    "y = dataset[\"sales\"]\n",
    "X = dataset.drop([\"sales\"], axis = 1)"
   ]
  },
  {
   "cell_type": "code",
   "execution_count": 245,
   "id": "bc79711c",
   "metadata": {},
   "outputs": [
    {
     "data": {
      "text/plain": [
       "0"
      ]
     },
     "execution_count": 245,
     "metadata": {},
     "output_type": "execute_result"
    }
   ],
   "source": [
    "y.isna().sum()"
   ]
  },
  {
   "cell_type": "code",
   "execution_count": 246,
   "id": "02f7cb4f",
   "metadata": {},
   "outputs": [
    {
     "data": {
      "text/plain": [
       "TV           0\n",
       "radio        0\n",
       "newspaper    0\n",
       "dtype: int64"
      ]
     },
     "execution_count": 246,
     "metadata": {},
     "output_type": "execute_result"
    }
   ],
   "source": [
    "X.isna().sum()"
   ]
  },
  {
   "cell_type": "code",
   "execution_count": 247,
   "id": "b68c0c0d",
   "metadata": {},
   "outputs": [],
   "source": [
    "X_train, X_test, y_train, y_test = train_test_split(X, y, test_size=0.2)"
   ]
  },
  {
   "cell_type": "markdown",
   "id": "d45723d9",
   "metadata": {},
   "source": [
    "Les critères valides sont :\n",
    "\n",
    "- \"mse\" → équivalent à l’ancien \"mse\" (erreur quadratique moyenne)\n",
    "\n",
    "- \"friedman_mse\" → variante adaptée aux boosting methods\n",
    "\n",
    "- \"absolute_error\" → équivalent à la MAE\n",
    "\n",
    "- \"poisson\" → pour des cibles de comptage positives"
   ]
  },
  {
   "cell_type": "code",
   "execution_count": 248,
   "id": "e2f8f364",
   "metadata": {},
   "outputs": [],
   "source": [
    "modelTreeR = tree.DecisionTreeRegressor(criterion=\"mse\", max_depth=6, random_state=0)"
   ]
  },
  {
   "cell_type": "code",
   "execution_count": 249,
   "id": "b83d97f2",
   "metadata": {},
   "outputs": [
    {
     "data": {
      "text/plain": [
       "DecisionTreeRegressor(max_depth=6, random_state=0)"
      ]
     },
     "execution_count": 249,
     "metadata": {},
     "output_type": "execute_result"
    }
   ],
   "source": [
    "modelTreeR.fit(X_train, y_train)"
   ]
  },
  {
   "cell_type": "code",
   "execution_count": 250,
   "id": "d738decf",
   "metadata": {},
   "outputs": [
    {
     "name": "stdout",
     "output_type": "stream",
     "text": [
      "Accuracy Abre Reg Train : 0.99523\n",
      "Accuracy Abre Reg Test  : 0.93247\n"
     ]
    }
   ],
   "source": [
    "acc_train = modelTreeR.score(X_train, y_train)\n",
    "acc_test = modelTreeR.score(X_test, y_test)\n",
    "\n",
    "print(f\"Accuracy Abre Reg Train : {acc_train :.5f}\")\n",
    "print(f\"Accuracy Abre Reg Test  : {acc_test :.5f}\")"
   ]
  },
  {
   "cell_type": "markdown",
   "id": "a11a7914",
   "metadata": {},
   "source": [
    "Comparaison avec La régression linéaire"
   ]
  },
  {
   "cell_type": "code",
   "execution_count": 254,
   "id": "65a7c8db",
   "metadata": {},
   "outputs": [],
   "source": [
    "# Preprocessing #\n",
    "# Initialisation\n",
    "std = StandardScaler()\n",
    "\n",
    "# Fit Transform\n",
    "X_train_std = std.fit_transform(X_train)\n",
    "\n",
    "# Transform\n",
    "X_test_std = std.transform(X_test)"
   ]
  },
  {
   "cell_type": "code",
   "execution_count": 255,
   "id": "7b1a65be",
   "metadata": {},
   "outputs": [],
   "source": [
    "RegL = LinearRegression()"
   ]
  },
  {
   "cell_type": "code",
   "execution_count": 256,
   "id": "5a6ee504",
   "metadata": {},
   "outputs": [
    {
     "data": {
      "text/plain": [
       "LinearRegression()"
      ]
     },
     "execution_count": 256,
     "metadata": {},
     "output_type": "execute_result"
    }
   ],
   "source": [
    "RegL.fit(X_train_std, y_train)"
   ]
  },
  {
   "cell_type": "code",
   "execution_count": 258,
   "id": "c39d34c9",
   "metadata": {},
   "outputs": [
    {
     "name": "stdout",
     "output_type": "stream",
     "text": [
      "Accuracy Abre Reg Train : 0.89779\n",
      "Accuracy Abre Reg Test  : 0.85478\n"
     ]
    }
   ],
   "source": [
    "acc_trainRegL = RegL.score(X_train_std, y_train)\n",
    "acc_testRegL = RegL.score(X_test_std, y_test)\n",
    "\n",
    "print(f\"Accuracy Abre Reg Train : {acc_trainRegL :.5f}\")\n",
    "print(f\"Accuracy Abre Reg Test  : {acc_testRegL :.5f}\")"
   ]
  },
  {
   "cell_type": "markdown",
   "id": "0dc7c0aa",
   "metadata": {},
   "source": [
    "### 2. Ensemble Learning : Bagging, Boosting et Stacking\n",
    "\n",
    "L'ensemble learning est une technique qui consiste à entraîner plus modèle de ML, pour ensuite considérer l'ensemble de prédiction.\n",
    "\n",
    "Il existe 3 grandes méthodes qui sont : \n",
    "\n",
    "- Le Bagging\n",
    "\n",
    "- Le Boosting\n",
    "\n",
    "- Le stacking \n",
    "\n",
    "Les algorithmes qui reposent sur ces méthodes comme : **Random Forest** comptent parmi les plus performants dans le monde du ML\n",
    "\n",
    "**Mise en situation**\n",
    "\n",
    "- Considérons 3 modèles de ML et utilisons les pour effectuer 10 prédictions\n",
    "\n",
    "- Supposons que nos modèles ont effectué chacun 70% de bonnes réponses\n",
    "\n",
    "- Supposons aussi que nos modèles n'ont pas tous fait les mêmes erreurs au même endroit.\n",
    "\n",
    "- Du coup si on venait à combiner les résultats de nos différents modèles pour ne garder à chaque fois la prédiction majoritaire, on pourrait obtenir plus de bonnes réponses (par exemple 90%)\n",
    "\n",
    "Dans ce cas on constate que **lorsqu'on regroupe nos modèles tous ensembles, on obtient une meilleure performance que lorsqu'on utilise nos modèles chacun de leur côté.\n",
    "\n",
    "- Ce résultat vient d'un phénomène appelé **The Wisdom of the crowd**\n",
    "\n",
    "- On ppeut encore aller plus loin : en regroupant plusieurs modèles chacun ayant à peine 51% de performance et ensemble réussir à atteindre 99% de bonnes réponses. \n",
    "\n",
    "- Ceci est dû à **la loi des grands nombres** : plus vous avez de modèles avec chacune une performance juste au dessus de 50% plus la performance collective s'approche des 100%.\n",
    "\n",
    "- Pour que cela fonctionne il faut 3 critère :\n",
    "    - chaque modèle doit avoir une performance au dessus de 50%\n",
    "    - Il faut un minimum de diversité (pour que les faiblesses des uns soient compensées par la force des autres)\n",
    "    - il faut réunir plusieurs modèles respectants les deux premières conditions.\n",
    "    \n",
    "- Pour se faire on dispose de 3 méthodes : Bagging, Boosting, Stacking\n",
    "\n",
    "**Bagging**\n",
    "Créer deux entités d'un même modèle (par plusieurs arbre de décision), et d'entraîner chacune de ces entités sur une portion aléatoire de notre dataset.\n",
    "\n",
    "- Pour ça, on utilise une technique d'échantillonnage appelé **Bootstrapping** qui consiste à replacer après chaque tirage au sort les données qui ont été selectionnées dans notre dataset.\n",
    "\n",
    "- De cette manière, on obtient une foule de modèle diversifié, puisqu'ils n'ont pas tous été nourris avec les mêmes données mais qui partagent certaines connaissances en commun (très important pour obtenir des majorités en faveur des bonnes réponses)\n",
    "\n",
    "- Une fois qu'on a cette foule on peut regrouper les résultats de chaque modèle pour faire notre prédiction finale \n",
    "\n",
    "- L'exemple d'algorithme le plus connu est celui de **RandomForest** (modèle dans lequel le modèle de base est l'arbre de décision)."
   ]
  },
  {
   "cell_type": "markdown",
   "id": "7e5235b0",
   "metadata": {},
   "source": [
    "Un autre façon d'obtenir des ensembles de modèle qui soit diversifié est d'utiliser une technique appelée : **Boosting**\n",
    "\n",
    "**Boosting**\n",
    "\n",
    "L'idée est d'entraîner l'un après l'autre plusieurs modèles relativement faible en demandant à chaque modèle d'essayer de corriger les erreurs effectuées par son prédécesseur.\n",
    "\n",
    "- On obtient un ensemble de modèles parfaitement complémetaire dans lequele les faiblesses des uns sont compensées par les forces des autres\n",
    "\n",
    "- Pour faire ça, il existe deux grands algorithmes :\n",
    "\n",
    "    - **AdaBoost**\n",
    "    - **Gradient Boosting**\n",
    "\n",
    "\n",
    "Différence entre **Bagging** et **Boosting**\n",
    "\n",
    "1. Dans le Bagging, on entraîne nos modèles en parallèle et dans le Boosting nos modèles sont entraînés en série.\n",
    "\n",
    "2. Dans le Bagging nos modèles sont tous relativement fort et sont chacun en situation d'overfitting et le fait de rassembler leurs prédictions permet de **réduire la variance de la foule**. À l'inverse avec le Boosting, nos modèles sont tous relativement faibles  et chacun en situation d'underfitting, mais en les construisant les uns par dessus les autres, on est capable de **réduire le biais de la foule** "
   ]
  },
  {
   "cell_type": "markdown",
   "id": "8d35de33",
   "metadata": {},
   "source": [
    "Il existe un 3 technique d'ensemble très populaire le **stacking**. \n",
    "\n",
    "**Stacking**\n",
    "\n",
    "L'idée est d'entraîner un modèle de ML par dessus les prédictions de notre foule de modèle.\n",
    "\n",
    "- Au lieu de simplement rassembler les résultats de nos modèles pour retenir une prédiction majoritaire, on demande à un modèle d'apprendre à reconnaître qui à tort ou raison dans notre foule pour lui même prédire le résultat final.\n",
    "\n",
    "Dans **Scikit-learn** on va retrouver tous ces algorithmes dans le module ensemble.\n",
    "\n",
    "On a d'abord :\n",
    "\n",
    "- **VotingClassifier() et VotingRegressor()** qui sont les implémentations les plus basiques qui peuvent d'une foule \"wisdowm of the crowd\". Avec ces deux classe on va entrer la liste de modèle qu'on veut entrer dans notre foule; les modèles vont être entraîner et les résultats regroupés pour retenir le résultat général, sous forme de vote\n",
    "\n",
    "- On a aussi le estimateurs qui permettent de faire du **Bagging**\n",
    "\n",
    "    - **BaggingClassifier() et BaggingRegressor(), estimateurs de bases pour faire du bagging\n",
    "    \n",
    "    - **RandomForest** qui est réellement la technique la plus populaire \n",
    "    - On a aussi **IsolationForrest** qui fait aussi appel à la technique de bootstrapping\n",
    "    \n",
    "- On a aussi les estimateurs de **Boosting**\n",
    "\n",
    "    - **AdaBoostClassifier() et AdaBoostRegressor()**\n",
    "    - **GrandientBoostingClassifier() et GradientBoostingClassifier()**\n",
    "    \n",
    "- On a aussi deux classes qui nous permettent de faire du stacking : \n",
    "\n",
    "    - **StackingClassifier() et StackingRegressor()**"
   ]
  },
  {
   "cell_type": "code",
   "execution_count": 320,
   "id": "332f5e04",
   "metadata": {},
   "outputs": [],
   "source": [
    "import numpy as np\n",
    "import matplotlib.pyplot as plt\n",
    "from sklearn.datasets import make_moons\n",
    "from sklearn.model_selection import train_test_split\n",
    "\n",
    "import warnings\n",
    "warnings.filterwarnings(\"ignore\")"
   ]
  },
  {
   "cell_type": "code",
   "execution_count": 321,
   "id": "5dc27f32",
   "metadata": {},
   "outputs": [
    {
     "data": {
      "text/plain": [
       "<matplotlib.collections.PathCollection at 0x7fa1e5bbb910>"
      ]
     },
     "execution_count": 321,
     "metadata": {},
     "output_type": "execute_result"
    },
    {
     "data": {
      "image/png": "[encoded data removed]",
      "text/plain": [
       "<Figure size 432x288 with 1 Axes>"
      ]
     },
     "metadata": {
      "needs_background": "light"
     },
     "output_type": "display_data"
    }
   ],
   "source": [
    "X, y = make_moons(n_samples=500, noise=0.3, random_state=0)\n",
    "plt.scatter(X[:,0], X[:,1], c=y)"
   ]
  },
  {
   "cell_type": "code",
   "execution_count": 322,
   "id": "9523343f",
   "metadata": {},
   "outputs": [],
   "source": [
    "X_train, X_test, y_train, y_test = train_test_split(X,\n",
    "                                                   y,\n",
    "                                                   test_size=0.3,\n",
    "                                                   random_state=0)"
   ]
  },
  {
   "cell_type": "markdown",
   "id": "fba80973",
   "metadata": {},
   "source": [
    "## Voting classifier"
   ]
  },
  {
   "cell_type": "code",
   "execution_count": 323,
   "id": "a9130fe7",
   "metadata": {},
   "outputs": [],
   "source": [
    "from sklearn.linear_model import SGDClassifier\n",
    "from sklearn.tree import DecisionTreeClassifier\n",
    "from sklearn.neighbors import KNeighborsClassifier\n",
    "\n",
    "\n",
    "# Pour le votting classifier\n",
    "from sklearn.ensemble import VotingClassifier"
   ]
  },
  {
   "cell_type": "markdown",
   "id": "b198db22",
   "metadata": {},
   "source": [
    "Pour utiliser voting classifier il faut commencer par définir quels vont être les modèles qui vont les composés"
   ]
  },
  {
   "cell_type": "code",
   "execution_count": 324,
   "id": "64290b56",
   "metadata": {},
   "outputs": [],
   "source": [
    "model_1 = SGDClassifier(random_state=0)\n",
    "model_2 = DecisionTreeClassifier(random_state=0)\n",
    "model_3 = KNeighborsClassifier(n_neighbors=2)"
   ]
  },
  {
   "cell_type": "markdown",
   "id": "7b1728f4",
   "metadata": {},
   "source": [
    "D'abord la performance de chacun de ces modèles"
   ]
  },
  {
   "cell_type": "code",
   "execution_count": 325,
   "id": "2e8ec6ec",
   "metadata": {
    "scrolled": true
   },
   "outputs": [
    {
     "name": "stdout",
     "output_type": "stream",
     "text": [
      "SGDClassifier 0.84\n",
      "DecisionTreeClassifier 0.86\n",
      "KNeighborsClassifier 0.86\n"
     ]
    }
   ],
   "source": [
    "for model in (model_1, model_2, model_3):\n",
    "    model.fit(X_train, y_train)\n",
    "    print(model.__class__.__name__, model.score(X_test, y_test))"
   ]
  },
  {
   "cell_type": "markdown",
   "id": "3d1c1638",
   "metadata": {},
   "source": [
    "On utilise maintenant le voting classifier :\n",
    "\n",
    "On a en entrée :\n",
    "\n",
    "- Une liste de tuple (\"nom\", model)\n",
    "- La technique de vote : On a deux techniques de vote:\n",
    "\n",
    "    - Hard voting : vote sur les prédictions (prendre la prédiction majoritaire)\n",
    "    - Soft voting : vote sur les probabilités (accumuler les probabilités de chaque classe)\n",
    "    \n",
    "- Le vote soft est un peu meilleur lorsque nos modèles sont bien calibrés\n",
    "    \n",
    "Dans le cas de **VotingRegressor()** la prédiction finale correspond à la moyenne."
   ]
  },
  {
   "cell_type": "code",
   "execution_count": 326,
   "id": "e24eac4f",
   "metadata": {},
   "outputs": [
    {
     "name": "stdout",
     "output_type": "stream",
     "text": [
      "SGDClassifier 0.84\n",
      "DecisionTreeClassifier 0.86\n",
      "KNeighborsClassifier 0.86\n",
      "VotingClassifier 0.8733333333333333\n"
     ]
    }
   ],
   "source": [
    "model_4 = VotingClassifier([(\"SGD\", model_1),\n",
    "                            (\"Tree\", model_2),\n",
    "          m                  (\"KNN\", model_3)],\n",
    "                          voting = 'hard')\n",
    "\n",
    "for model in (model_1, model_2, model_3, model_4):\n",
    "    model.fit(X_train, y_train)\n",
    "    print(model.__class__.__name__, model.score(X_test, y_test))"
   ]
  },
  {
   "cell_type": "markdown",
   "id": "3649dddb",
   "metadata": {},
   "source": [
    "Le voting classifier fonctionne ici mais ce n'est pas une technique d'ensemble éfficace car il très difficile avec cette de respecter le 3e critère de diversité. Ici nos modèles sont performants en terme de prédictions vont tous nous dire la même chose.\n",
    "\n",
    "- **La meilleure façon de gagner de la diversité est grâce au Bagging et au Boosting**\n"
   ]
  },
  {
   "cell_type": "markdown",
   "id": "395ac24f",
   "metadata": {},
   "source": [
    "## Bagging\n",
    "\n",
    "- Pour le **BaggingClassifier** on renseigne en paramètre \n",
    "    - un estimateur de base avec lequel on désir travailler,  \n",
    "    - le nombre d'estimateur qu'on souhaite avoir dans notre foule\n",
    "    \n",
    "\n",
    "- Pour le **RandomForestClassifier** on precise en paramètre le nombre d'estimateurs qu'on désire avoir\n",
    "\n",
    "    - Il n'est pas utilise de préciser le base_estimator car par défaut le RandomForestClassifier utilise  l'estimateur d'arbre de decision"
   ]
  },
  {
   "cell_type": "code",
   "execution_count": 1,
   "id": "000c5ce8",
   "metadata": {},
   "outputs": [],
   "source": [
    "from sklearn.ensemble import BaggingClassifier, RandomForestClassifier"
   ]
  },
  {
   "cell_type": "code",
   "execution_count": 328,
   "id": "b51707cd",
   "metadata": {},
   "outputs": [
    {
     "data": {
      "text/plain": [
       "0.8866666666666667"
      ]
     },
     "execution_count": 328,
     "metadata": {},
     "output_type": "execute_result"
    }
   ],
   "source": [
    "model = BaggingClassifier(base_estimator=KNeighborsClassifier(),\n",
    "                         n_estimators=100)\n",
    "\n",
    "model.fit(X_train, y_train)\n",
    "model.score(X_test, y_test)"
   ]
  },
  {
   "cell_type": "code",
   "execution_count": 332,
   "id": "f24ca804",
   "metadata": {},
   "outputs": [
    {
     "data": {
      "text/plain": [
       "0.8933333333333333"
      ]
     },
     "execution_count": 332,
     "metadata": {},
     "output_type": "execute_result"
    }
   ],
   "source": [
    "model = RandomForestClassifier(n_estimators=100, max_depth=7)\n",
    "\n",
    "model.fit(X_train, y_train)\n",
    "model.score(X_test, y_test)"
   ]
  },
  {
   "cell_type": "markdown",
   "id": "188e64ac",
   "metadata": {},
   "source": [
    "**En général un RandomForest va avoir de meilleure performace qu'un BaggingClassifier avec comme base_estimator un KNeighborClassifier mais il va falloir le régler\n",
    "\n",
    "- On peut jouer ave l'argument **max_depth**"
   ]
  },
  {
   "cell_type": "markdown",
   "id": "9e9e1b5f",
   "metadata": {},
   "source": [
    "## Boosting\n",
    "\n",
    "- Pour **AdaBoostClassifier** on renseigne comme paramètre le n_estimators \n",
    "\n",
    "- Pour **GrandientBoostingClassifier** on précise le n_estimators"
   ]
  },
  {
   "cell_type": "code",
   "execution_count": 336,
   "id": "70bbfc5c",
   "metadata": {},
   "outputs": [],
   "source": [
    "from sklearn.ensemble import AdaBoostClassifier, GradientBoostingClassifier"
   ]
  },
  {
   "cell_type": "code",
   "execution_count": 340,
   "id": "4d981477",
   "metadata": {},
   "outputs": [
    {
     "data": {
      "text/plain": [
       "0.88"
      ]
     },
     "execution_count": 340,
     "metadata": {},
     "output_type": "execute_result"
    }
   ],
   "source": [
    "model = AdaBoostClassifier(n_estimators=100)\n",
    "\n",
    "model.fit(X_train, y_train)\n",
    "model.score(X_test, y_test)"
   ]
  },
  {
   "cell_type": "code",
   "execution_count": 341,
   "id": "fe112d67",
   "metadata": {},
   "outputs": [
    {
     "data": {
      "text/plain": [
       "0.8933333333333333"
      ]
     },
     "execution_count": 341,
     "metadata": {},
     "output_type": "execute_result"
    }
   ],
   "source": [
    "model = GradientBoostingClassifier(n_estimators=100)\n",
    "\n",
    "model.fit(X_train, y_train)\n",
    "model.score(X_test, y_test)"
   ]
  },
  {
   "cell_type": "markdown",
   "id": "0053ff80",
   "metadata": {},
   "source": [
    "On peut régler les hyperparamètres de notre modèle :\n",
    "\n",
    "- choisir un autre estimateur de base (différent de decisision tree par défaut)\n",
    "    \n",
    "-  préciser un lr\n",
    "    \n",
    "- La même chose à faire si on souhaite avoir la meilleur configuration c'est de faire **GridSearchCV**"
   ]
  },
  {
   "cell_type": "markdown",
   "id": "158cc86c",
   "metadata": {},
   "source": [
    "## Stacking\n",
    "\n",
    "Le principe est d'entraîner un estimateur par dessus les prédictions de nos différents modèles.\n",
    "\n",
    "- On va prende le VotingClassifier du début en le remplaçant par StackingClassifier \n",
    "\n",
    "- Au lieu d'avoir un voting on a un final_estimator à choisir"
   ]
  },
  {
   "cell_type": "code",
   "execution_count": 342,
   "id": "67eb5598",
   "metadata": {},
   "outputs": [],
   "source": [
    "from sklearn.ensemble import StackingClassifier"
   ]
  },
  {
   "cell_type": "code",
   "execution_count": 343,
   "id": "2404b646",
   "metadata": {},
   "outputs": [
    {
     "data": {
      "text/plain": [
       "0.8666666666666667"
      ]
     },
     "execution_count": 343,
     "metadata": {},
     "output_type": "execute_result"
    }
   ],
   "source": [
    "model_4 = StackingClassifier([(\"SGD\", model_1),\n",
    "                            (\"Tree\", model_2),\n",
    "                            (\"KNN\", model_3)],\n",
    "                          final_estimator=KNeighborsClassifier())\n",
    "model_4.fit(X_train, y_train)\n",
    "model_4.score(X_test, y_test)"
   ]
  },
  {
   "cell_type": "markdown",
   "id": "df3c00e0",
   "metadata": {},
   "source": [
    "Quel technique utiliser ?\n",
    "\n",
    "- Le **Bagging** est souvent utilisé lorsque nos modèles singuliers ont tendances à faire de l'overfitting, le fait de créer plusieurs experts et de faire la moyenne ou le vote de leurs prédictions en faisant du bootstrapping va réduire cet overfitting\n",
    "\n",
    "- Si on travail sur un problème dans lequel les modèles pris individuellement ont du mal à atteindre une bonne performance sur le trainset  on utilise du **Boosting**\n",
    "\n",
    "- Quand au **Stacking** elle peut être une technique très forte si l'on a passé énormément de temps à entraîner chaque modèle individuellement."
   ]
  }
 ],
 "metadata": {
  "kernelspec": {
   "display_name": "Python 3",
   "language": "python",
   "name": "python3"
  },
  "language_info": {
   "codemirror_mode": {
    "name": "ipython",
    "version": 3
   },
   "file_extension": ".py",
   "mimetype": "text/x-python",
   "name": "python",
   "nbconvert_exporter": "python",
   "pygments_lexer": "ipython3",
   "version": "3.8.8"
  }
 },
 "nbformat": 4,
 "nbformat_minor": 5
}
